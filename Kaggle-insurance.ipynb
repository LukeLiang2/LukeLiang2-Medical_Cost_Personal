{
 "cells": [
  {
   "cell_type": "code",
   "execution_count": 1,
   "id": "41e827b9-415f-4987-ae43-27887d716151",
   "metadata": {},
   "outputs": [
    {
     "name": "stdout",
     "output_type": "stream",
     "text": [
      "(1338, 7)\n"
     ]
    }
   ],
   "source": [
    "#read csv first\n",
    "import pandas as pd\n",
    "import numpy as np\n",
    "from matplotlib import pyplot as plt\n",
    "df = pd.read_csv(\"insurance.csv\")\n",
    "print(df.shape)\n",
    "df.head(5)\n",
    "X,Y = df.iloc[:,:-1], df.iloc[:,-1]"
   ]
  },
  {
   "cell_type": "markdown",
   "id": "1fee3e0b-9b60-4568-8d5e-d94fbc0855aa",
   "metadata": {},
   "source": [
    "zero variance issue:"
   ]
  },
  {
   "cell_type": "code",
   "execution_count": 2,
   "id": "a03ee638-59c4-43a3-b2b8-5b038cc42def",
   "metadata": {},
   "outputs": [
    {
     "name": "stdout",
     "output_type": "stream",
     "text": [
      "age           47\n",
      "sex            2\n",
      "bmi          548\n",
      "children       6\n",
      "smoker         2\n",
      "region         4\n",
      "charges     1337\n",
      "dtype: int64\n"
     ]
    }
   ],
   "source": [
    "#check out columns which have 0 variance\n",
    "print(df.nunique())"
   ]
  },
  {
   "cell_type": "code",
   "execution_count": null,
   "id": "09bccf78-9d22-44f8-9951-bbea90ad8bf6",
   "metadata": {},
   "outputs": [],
   "source": [
    "#ok, seems like ok, there is no problem of 0 variance columns"
   ]
  },
  {
   "cell_type": "code",
   "execution_count": null,
   "id": "0e9715ff-3750-4b1b-91d1-f7199cfd0276",
   "metadata": {},
   "outputs": [],
   "source": []
  },
  {
   "cell_type": "markdown",
   "id": "a33a107a-c306-432c-9440-ff986ca96895",
   "metadata": {},
   "source": [
    "Outlier issue:"
   ]
  },
  {
   "cell_type": "code",
   "execution_count": 3,
   "id": "60eb3d3f-366d-40e7-b6bb-986bddec7226",
   "metadata": {},
   "outputs": [
    {
     "data": {
      "text/html": [
       "<div>\n",
       "<style scoped>\n",
       "    .dataframe tbody tr th:only-of-type {\n",
       "        vertical-align: middle;\n",
       "    }\n",
       "\n",
       "    .dataframe tbody tr th {\n",
       "        vertical-align: top;\n",
       "    }\n",
       "\n",
       "    .dataframe thead th {\n",
       "        text-align: right;\n",
       "    }\n",
       "</style>\n",
       "<table border=\"1\" class=\"dataframe\">\n",
       "  <thead>\n",
       "    <tr style=\"text-align: right;\">\n",
       "      <th></th>\n",
       "      <th>age</th>\n",
       "      <th>bmi</th>\n",
       "      <th>children</th>\n",
       "      <th>charges</th>\n",
       "    </tr>\n",
       "  </thead>\n",
       "  <tbody>\n",
       "    <tr>\n",
       "      <th>count</th>\n",
       "      <td>1338.000000</td>\n",
       "      <td>1338.000000</td>\n",
       "      <td>1338.000000</td>\n",
       "      <td>1338.000000</td>\n",
       "    </tr>\n",
       "    <tr>\n",
       "      <th>mean</th>\n",
       "      <td>39.207025</td>\n",
       "      <td>30.663397</td>\n",
       "      <td>1.094918</td>\n",
       "      <td>13270.422265</td>\n",
       "    </tr>\n",
       "    <tr>\n",
       "      <th>std</th>\n",
       "      <td>14.049960</td>\n",
       "      <td>6.098187</td>\n",
       "      <td>1.205493</td>\n",
       "      <td>12110.011237</td>\n",
       "    </tr>\n",
       "    <tr>\n",
       "      <th>min</th>\n",
       "      <td>18.000000</td>\n",
       "      <td>15.960000</td>\n",
       "      <td>0.000000</td>\n",
       "      <td>1121.873900</td>\n",
       "    </tr>\n",
       "    <tr>\n",
       "      <th>25%</th>\n",
       "      <td>27.000000</td>\n",
       "      <td>26.296250</td>\n",
       "      <td>0.000000</td>\n",
       "      <td>4740.287150</td>\n",
       "    </tr>\n",
       "    <tr>\n",
       "      <th>50%</th>\n",
       "      <td>39.000000</td>\n",
       "      <td>30.400000</td>\n",
       "      <td>1.000000</td>\n",
       "      <td>9382.033000</td>\n",
       "    </tr>\n",
       "    <tr>\n",
       "      <th>75%</th>\n",
       "      <td>51.000000</td>\n",
       "      <td>34.693750</td>\n",
       "      <td>2.000000</td>\n",
       "      <td>16639.912515</td>\n",
       "    </tr>\n",
       "    <tr>\n",
       "      <th>max</th>\n",
       "      <td>64.000000</td>\n",
       "      <td>53.130000</td>\n",
       "      <td>5.000000</td>\n",
       "      <td>63770.428010</td>\n",
       "    </tr>\n",
       "  </tbody>\n",
       "</table>\n",
       "</div>"
      ],
      "text/plain": [
       "               age          bmi     children       charges\n",
       "count  1338.000000  1338.000000  1338.000000   1338.000000\n",
       "mean     39.207025    30.663397     1.094918  13270.422265\n",
       "std      14.049960     6.098187     1.205493  12110.011237\n",
       "min      18.000000    15.960000     0.000000   1121.873900\n",
       "25%      27.000000    26.296250     0.000000   4740.287150\n",
       "50%      39.000000    30.400000     1.000000   9382.033000\n",
       "75%      51.000000    34.693750     2.000000  16639.912515\n",
       "max      64.000000    53.130000     5.000000  63770.428010"
      ]
     },
     "execution_count": 3,
     "metadata": {},
     "output_type": "execute_result"
    }
   ],
   "source": [
    "df.describe()"
   ]
  },
  {
   "cell_type": "code",
   "execution_count": 4,
   "id": "05c9b559-872e-484a-9ee8-d1853fecb5d3",
   "metadata": {},
   "outputs": [
    {
     "data": {
      "image/png": "[encoded data removed]",
      "text/plain": [
       "<Figure size 432x288 with 4 Axes>"
      ]
     },
     "metadata": {
      "needs_background": "light"
     },
     "output_type": "display_data"
    }
   ],
   "source": [
    "df.hist()\n",
    "plt.show()"
   ]
  },
  {
   "cell_type": "code",
   "execution_count": 5,
   "id": "c13d61a1-0ecb-482d-9278-560391a3ebb4",
   "metadata": {},
   "outputs": [
    {
     "name": "stdout",
     "output_type": "stream",
     "text": [
      "Identified outliers: 0\n",
      "(1338, 7)\n"
     ]
    }
   ],
   "source": [
    "q25, q75 = np.percentile(df['age'], 25), np.percentile(df['age'], 75)\n",
    "iqr = q75 - q25\n",
    "cut_off = iqr * 1.5\n",
    "lower, upper = q25 - cut_off, q75 + cut_off\n",
    "outliers = [x for x in df['age'] if x < lower or x > upper]\n",
    "print('Identified outliers: %d' % len(outliers))\n",
    "print(df.shape)"
   ]
  },
  {
   "cell_type": "code",
   "execution_count": 6,
   "id": "2d4f87f1-011b-40be-9cde-912ed7caf1e9",
   "metadata": {},
   "outputs": [
    {
     "name": "stdout",
     "output_type": "stream",
     "text": [
      "Identified outliers: 9\n",
      "(1338, 7)\n",
      "Non-outlier observations: 1329\n",
      "(1329, 7)\n"
     ]
    }
   ],
   "source": [
    "q25, q75 = np.percentile(df['bmi'], 25), np.percentile(df['bmi'], 75)\n",
    "iqr = q75 - q25\n",
    "cut_off = iqr * 1.5\n",
    "lower, upper = q25 - cut_off, q75 + cut_off\n",
    "outliers = [x for x in df['bmi'] if x < lower or x > upper]\n",
    "print('Identified outliers: %d' % len(outliers))\n",
    "print(df.shape)\n",
    "outliers_removed = [x for x in df['bmi'] if x >= lower and x <= upper] \n",
    "print('Non-outlier observations: %d' % len(outliers_removed))\n",
    "df = df[(df['bmi'] >= lower) & (df['bmi'] <= upper)]\t\n",
    "print(df.shape)"
   ]
  },
  {
   "cell_type": "code",
   "execution_count": 7,
   "id": "47b5667c-0b3f-4c7a-9b7a-2979a2d99276",
   "metadata": {},
   "outputs": [
    {
     "name": "stdout",
     "output_type": "stream",
     "text": [
      "Identified outliers: 0\n",
      "(1329, 7)\n"
     ]
    }
   ],
   "source": [
    "q25, q75 = np.percentile(df['children'], 25), np.percentile(df['children'], 75)\n",
    "iqr = q75 - q25\n",
    "cut_off = iqr * 1.5\n",
    "lower, upper = q25 - cut_off, q75 + cut_off\n",
    "outliers = [x for x in df['children'] if x < lower or x > upper]\n",
    "print('Identified outliers: %d' % len(outliers))\n",
    "print(df.shape)"
   ]
  },
  {
   "cell_type": "code",
   "execution_count": null,
   "id": "3798f36d-b164-43e5-b43d-74286c2a6f3e",
   "metadata": {},
   "outputs": [],
   "source": [
    "#for 'charges' column, I decided to not to handle the outliers"
   ]
  },
  {
   "cell_type": "code",
   "execution_count": null,
   "id": "89a95268-2ba9-4a09-960e-bd10a76cb315",
   "metadata": {},
   "outputs": [],
   "source": [
    "#ok, we solved outlier problems"
   ]
  },
  {
   "cell_type": "code",
   "execution_count": null,
   "id": "4878f4e3-5782-4820-99d6-e620b2b23cf4",
   "metadata": {},
   "outputs": [],
   "source": []
  },
  {
   "cell_type": "markdown",
   "id": "07ecd3a1-141f-4b17-9483-1b5d65498031",
   "metadata": {},
   "source": [
    "missing value issue:"
   ]
  },
  {
   "cell_type": "code",
   "execution_count": 8,
   "id": "049a7685-cb02-4e46-95fe-1cc523fbae29",
   "metadata": {},
   "outputs": [
    {
     "name": "stdout",
     "output_type": "stream",
     "text": [
      "age         0\n",
      "sex         0\n",
      "bmi         0\n",
      "children    0\n",
      "smoker      0\n",
      "region      0\n",
      "charges     0\n",
      "dtype: int64\n"
     ]
    }
   ],
   "source": [
    "print(df.isnull().sum())"
   ]
  },
  {
   "cell_type": "code",
   "execution_count": null,
   "id": "adc9300d-1dab-4a6b-93cc-b8a1d0085d4e",
   "metadata": {},
   "outputs": [],
   "source": [
    "#there are no missing values"
   ]
  },
  {
   "cell_type": "code",
   "execution_count": null,
   "id": "cfd58308-d10a-4a07-b533-8cf09c54481f",
   "metadata": {},
   "outputs": [],
   "source": []
  },
  {
   "cell_type": "code",
   "execution_count": 9,
   "id": "ea0c8a78-a6ad-46fc-b105-d40a49c1c999",
   "metadata": {},
   "outputs": [
    {
     "data": {
      "text/plain": [
       "age           int64\n",
       "sex          object\n",
       "bmi         float64\n",
       "children      int64\n",
       "smoker       object\n",
       "region       object\n",
       "charges     float64\n",
       "dtype: object"
      ]
     },
     "execution_count": 9,
     "metadata": {},
     "output_type": "execute_result"
    }
   ],
   "source": [
    "df.dtypes"
   ]
  },
  {
   "cell_type": "code",
   "execution_count": null,
   "id": "90354290-81f6-4e5b-8e56-5f0dbd831f7f",
   "metadata": {},
   "outputs": [],
   "source": []
  },
  {
   "cell_type": "markdown",
   "id": "f99d1df2-c123-476c-86e3-c4a6e69454a0",
   "metadata": {},
   "source": [
    "Machine Learning Pipeline"
   ]
  },
  {
   "cell_type": "code",
   "execution_count": 10,
   "id": "3876b349-b14d-4f41-a4b8-48dae911d6cd",
   "metadata": {},
   "outputs": [
    {
     "data": {
      "application/javascript": [
       "\n",
       "        if (window._pyforest_update_imports_cell) { window._pyforest_update_imports_cell('from sklearn.model_selection import train_test_split'); }\n",
       "    "
      ],
      "text/plain": [
       "<IPython.core.display.Javascript object>"
      ]
     },
     "metadata": {},
     "output_type": "display_data"
    }
   ],
   "source": [
    "#Let me split the data into train and test set\n",
    "X_train, X_test, y_train, y_test = train_test_split(X, Y, test_size=0.1,random_state=42)"
   ]
  },
  {
   "cell_type": "code",
   "execution_count": 11,
   "id": "dc802bf4-0efa-4fd2-a834-d44b9e862932",
   "metadata": {},
   "outputs": [
    {
     "data": {
      "application/javascript": [
       "\n",
       "        if (window._pyforest_update_imports_cell) { window._pyforest_update_imports_cell('from sklearn.model_selection import train_test_split\\nfrom sklearn.model_selection import KFold'); }\n",
       "    "
      ],
      "text/plain": [
       "<IPython.core.display.Javascript object>"
      ]
     },
     "metadata": {},
     "output_type": "display_data"
    },
    {
     "data": {
      "application/javascript": [
       "\n",
       "        if (window._pyforest_update_imports_cell) { window._pyforest_update_imports_cell('from sklearn.model_selection import train_test_split\\nfrom sklearn.model_selection import KFold'); }\n",
       "    "
      ],
      "text/plain": [
       "<IPython.core.display.Javascript object>"
      ]
     },
     "metadata": {},
     "output_type": "display_data"
    },
    {
     "data": {
      "application/javascript": [
       "\n",
       "        if (window._pyforest_update_imports_cell) { window._pyforest_update_imports_cell('from sklearn.model_selection import train_test_split\\nfrom sklearn.model_selection import KFold\\nfrom sklearn.model_selection import RandomizedSearchCV'); }\n",
       "    "
      ],
      "text/plain": [
       "<IPython.core.display.Javascript object>"
      ]
     },
     "metadata": {},
     "output_type": "display_data"
    },
    {
     "name": "stdout",
     "output_type": "stream",
     "text": [
      "train r2: 0.885 (0.009)\n",
      "test r2: 0.847 (0.049)\n"
     ]
    }
   ],
   "source": [
    "#I'm building a ML pipeline which handles everything\n",
    "#the preprocessing includes onehotencoder, robustscaler, power transformer,discretization.\n",
    "#I like to use LightGBM model because it's very fast and has incredible performance\n",
    "#The hyperparameter tunning will happen in my nested cross validation\n",
    "import lightgbm as lgb\n",
    "from sklearn.model_selection import RepeatedKFold,GridSearchCV,cross_validate\n",
    "from sklearn.pipeline import Pipeline\n",
    "from sklearn.preprocessing import OneHotEncoder,PowerTransformer,KBinsDiscretizer,OrdinalEncoder,RobustScaler\n",
    "from sklearn.compose import ColumnTransformer\n",
    "from sklearn.feature_selection import SelectKBest,f_regression\n",
    "\n",
    "cv_inner = KFold(n_splits=10, shuffle=True, random_state=1)\n",
    "cv_outer = KFold(n_splits=10,shuffle=True, random_state=1)\n",
    "\n",
    "t = [('cat', OneHotEncoder(drop='first'), ['sex','smoker','region']),\n",
    "     ('robust',RobustScaler(),['age','bmi','children']),\n",
    "    ('power', PowerTransformer(method='yeo-johnson', standardize=True), ['bmi']),\n",
    "    ('kbins',KBinsDiscretizer(encode='ordinal', strategy='kmeans'), ['bmi'])] \n",
    "col_transform = ColumnTransformer(transformers=t)\n",
    "fs = SelectKBest(score_func=f_regression)\n",
    "pipeline = Pipeline([('col', col_transform),\n",
    "                     ('sel',fs),\n",
    "                     ('m',lgb.LGBMRegressor(n_jobs=-1))])\n",
    "\n",
    "grid = {\n",
    "        'sel__k':[4,5,6],\n",
    "        'm__n_estimators': [50,100,200],\n",
    "        'm__num_leaves':[10,20],\n",
    "        'm__max_bin': [110]}\n",
    "\n",
    "scores = cross_validate(RandomizedSearchCV(pipeline, grid, scoring='r2', cv=cv_inner, n_jobs=-1,verbose = 0), \n",
    "                         X_train, y_train, cv=cv_outer, scoring='r2',n_jobs=-1,return_train_score=True,return_estimator=False,\n",
    "                       verbose = 0)\n",
    "print('train r2: %.3f (%.3f)' % (np.mean(scores['train_score']), np.std(scores['train_score'])))\n",
    "print('test r2: %.3f (%.3f)' % (np.mean(scores['test_score']), np.std(scores['test_score'])))"
   ]
  },
  {
   "cell_type": "code",
   "execution_count": 12,
   "id": "b874e045-3f2b-4e8e-a515-a09bc1abaee4",
   "metadata": {},
   "outputs": [
    {
     "name": "stdout",
     "output_type": "stream",
     "text": [
      "R Squared: 0.8373640674781733\n"
     ]
    },
    {
     "data": {
      "text/plain": [
       "['pipe_model']"
      ]
     },
     "execution_count": 12,
     "metadata": {},
     "output_type": "execute_result"
    }
   ],
   "source": [
    "#save the pipeline using joblib\n",
    "#also check out the performance on unseen dataset(X_test)\n",
    "from sklearn import metrics\n",
    "pipeline.fit(X_train,y_train)\n",
    "yhat = pipeline.predict(X_test)\n",
    "print('R Squared:', metrics.r2_score(y_test, yhat))\n",
    "\n",
    "import joblib\n",
    "joblib.dump(pipeline,'pipe_model')"
   ]
  },
  {
   "cell_type": "code",
   "execution_count": 13,
   "id": "fd238729-d83d-4646-8b0c-23a89032e525",
   "metadata": {
    "tags": []
   },
   "outputs": [
    {
     "data": {
      "text/html": [
       "<div>\n",
       "<style scoped>\n",
       "    .dataframe tbody tr th:only-of-type {\n",
       "        vertical-align: middle;\n",
       "    }\n",
       "\n",
       "    .dataframe tbody tr th {\n",
       "        vertical-align: top;\n",
       "    }\n",
       "\n",
       "    .dataframe thead th {\n",
       "        text-align: right;\n",
       "    }\n",
       "</style>\n",
       "<table border=\"1\" class=\"dataframe\">\n",
       "  <thead>\n",
       "    <tr style=\"text-align: right;\">\n",
       "      <th></th>\n",
       "      <th>yhat</th>\n",
       "    </tr>\n",
       "  </thead>\n",
       "  <tbody>\n",
       "    <tr>\n",
       "      <th>0</th>\n",
       "      <td>11450.926474</td>\n",
       "    </tr>\n",
       "    <tr>\n",
       "      <th>1</th>\n",
       "      <td>6286.921578</td>\n",
       "    </tr>\n",
       "    <tr>\n",
       "      <th>2</th>\n",
       "      <td>28092.173067</td>\n",
       "    </tr>\n",
       "    <tr>\n",
       "      <th>3</th>\n",
       "      <td>8410.246479</td>\n",
       "    </tr>\n",
       "    <tr>\n",
       "      <th>4</th>\n",
       "      <td>33324.853382</td>\n",
       "    </tr>\n",
       "  </tbody>\n",
       "</table>\n",
       "</div>"
      ],
      "text/plain": [
       "           yhat\n",
       "0  11450.926474\n",
       "1   6286.921578\n",
       "2  28092.173067\n",
       "3   8410.246479\n",
       "4  33324.853382"
      ]
     },
     "execution_count": 13,
     "metadata": {},
     "output_type": "execute_result"
    }
   ],
   "source": [
    "model = joblib.load('pipe_model')\n",
    "pd.DataFrame(model.predict(X_test)).rename(columns={0:'yhat'}).head(5)"
   ]
  },
  {
   "cell_type": "code",
   "execution_count": null,
   "id": "9641d9af-28b4-4d7a-9a54-25882694e5ac",
   "metadata": {},
   "outputs": [],
   "source": []
  }
 ],
 "metadata": {
  "kernelspec": {
   "display_name": "Python 3 (ipykernel)",
   "language": "python",
   "name": "python3"
  },
  "language_info": {
   "codemirror_mode": {
    "name": "ipython",
    "version": 3
   },
   "file_extension": ".py",
   "mimetype": "text/x-python",
   "name": "python",
   "nbconvert_exporter": "python",
   "pygments_lexer": "ipython3",
   "version": "3.8.11"
  }
 },
 "nbformat": 4,
 "nbformat_minor": 5
}
